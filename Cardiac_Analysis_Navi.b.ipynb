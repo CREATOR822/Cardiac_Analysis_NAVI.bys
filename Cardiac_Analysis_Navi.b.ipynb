{
 "cells": [
  {
   "cell_type": "markdown",
   "metadata": {},
   "source": [
    "# Cardiac Arrest Analysis"
   ]
  },
  {
   "cell_type": "markdown",
   "metadata": {},
   "source": [
    "In this particular project, i am using a dataset that contains information like quality Gender, Chain_smoker, Consumes_other_tobacco_products, HighBP, Obese, Diabetes, Metabolic_syndrome"
   ]
  },
  {
   "cell_type": "code",
   "execution_count": 1,
   "metadata": {},
   "outputs": [],
   "source": [
    "import pandas as pd\n",
    "import numpy as np\n",
    "import matplotlib.pyplot as plt\n",
    "import seaborn as sns\n",
    "%matplotlib inline"
   ]
  },
  {
   "cell_type": "markdown",
   "metadata": {},
   "source": [
    "#  load dataset"
   ]
  },
  {
   "cell_type": "code",
   "execution_count": 2,
   "metadata": {},
   "outputs": [],
   "source": [
    "df = pd.read_csv('Python_Clustering_Pr.csv')"
   ]
  },
  {
   "cell_type": "code",
   "execution_count": 3,
   "metadata": {},
   "outputs": [
    {
     "data": {
      "text/html": [
       "<div>\n",
       "<style scoped>\n",
       "    .dataframe tbody tr th:only-of-type {\n",
       "        vertical-align: middle;\n",
       "    }\n",
       "\n",
       "    .dataframe tbody tr th {\n",
       "        vertical-align: top;\n",
       "    }\n",
       "\n",
       "    .dataframe thead th {\n",
       "        text-align: right;\n",
       "    }\n",
       "</style>\n",
       "<table border=\"1\" class=\"dataframe\">\n",
       "  <thead>\n",
       "    <tr style=\"text-align: right;\">\n",
       "      <th></th>\n",
       "      <th>Gender</th>\n",
       "      <th>Chain_smoker</th>\n",
       "      <th>Consumes_other_tobacco_products</th>\n",
       "      <th>HighBP</th>\n",
       "      <th>Obese</th>\n",
       "      <th>Diabetes</th>\n",
       "      <th>Metabolic_syndrome</th>\n",
       "      <th>Use_of_stimulant_drugs</th>\n",
       "      <th>Family_history</th>\n",
       "      <th>History_of_preeclampsia</th>\n",
       "      <th>CABG_history</th>\n",
       "      <th>Respiratory_illness</th>\n",
       "      <th>UnderRisk</th>\n",
       "    </tr>\n",
       "  </thead>\n",
       "  <tbody>\n",
       "    <tr>\n",
       "      <th>0</th>\n",
       "      <td>1</td>\n",
       "      <td>1</td>\n",
       "      <td>1</td>\n",
       "      <td>0</td>\n",
       "      <td>1</td>\n",
       "      <td>0</td>\n",
       "      <td>0</td>\n",
       "      <td>0</td>\n",
       "      <td>1</td>\n",
       "      <td>0</td>\n",
       "      <td>0</td>\n",
       "      <td>0</td>\n",
       "      <td>no</td>\n",
       "    </tr>\n",
       "    <tr>\n",
       "      <th>1</th>\n",
       "      <td>1</td>\n",
       "      <td>0</td>\n",
       "      <td>1</td>\n",
       "      <td>0</td>\n",
       "      <td>1</td>\n",
       "      <td>0</td>\n",
       "      <td>0</td>\n",
       "      <td>0</td>\n",
       "      <td>1</td>\n",
       "      <td>0</td>\n",
       "      <td>0</td>\n",
       "      <td>0</td>\n",
       "      <td>no</td>\n",
       "    </tr>\n",
       "    <tr>\n",
       "      <th>2</th>\n",
       "      <td>1</td>\n",
       "      <td>0</td>\n",
       "      <td>1</td>\n",
       "      <td>0</td>\n",
       "      <td>1</td>\n",
       "      <td>0</td>\n",
       "      <td>0</td>\n",
       "      <td>0</td>\n",
       "      <td>1</td>\n",
       "      <td>0</td>\n",
       "      <td>0</td>\n",
       "      <td>0</td>\n",
       "      <td>no</td>\n",
       "    </tr>\n",
       "    <tr>\n",
       "      <th>3</th>\n",
       "      <td>1</td>\n",
       "      <td>0</td>\n",
       "      <td>1</td>\n",
       "      <td>0</td>\n",
       "      <td>1</td>\n",
       "      <td>0</td>\n",
       "      <td>0</td>\n",
       "      <td>0</td>\n",
       "      <td>1</td>\n",
       "      <td>0</td>\n",
       "      <td>0</td>\n",
       "      <td>0</td>\n",
       "      <td>no</td>\n",
       "    </tr>\n",
       "    <tr>\n",
       "      <th>4</th>\n",
       "      <td>1</td>\n",
       "      <td>0</td>\n",
       "      <td>0</td>\n",
       "      <td>0</td>\n",
       "      <td>0</td>\n",
       "      <td>0</td>\n",
       "      <td>1</td>\n",
       "      <td>1</td>\n",
       "      <td>0</td>\n",
       "      <td>0</td>\n",
       "      <td>0</td>\n",
       "      <td>0</td>\n",
       "      <td>no</td>\n",
       "    </tr>\n",
       "    <tr>\n",
       "      <th>...</th>\n",
       "      <td>...</td>\n",
       "      <td>...</td>\n",
       "      <td>...</td>\n",
       "      <td>...</td>\n",
       "      <td>...</td>\n",
       "      <td>...</td>\n",
       "      <td>...</td>\n",
       "      <td>...</td>\n",
       "      <td>...</td>\n",
       "      <td>...</td>\n",
       "      <td>...</td>\n",
       "      <td>...</td>\n",
       "      <td>...</td>\n",
       "    </tr>\n",
       "    <tr>\n",
       "      <th>884</th>\n",
       "      <td>2</td>\n",
       "      <td>0</td>\n",
       "      <td>1</td>\n",
       "      <td>0</td>\n",
       "      <td>1</td>\n",
       "      <td>0</td>\n",
       "      <td>0</td>\n",
       "      <td>0</td>\n",
       "      <td>1</td>\n",
       "      <td>0</td>\n",
       "      <td>0</td>\n",
       "      <td>0</td>\n",
       "      <td>no</td>\n",
       "    </tr>\n",
       "    <tr>\n",
       "      <th>885</th>\n",
       "      <td>1</td>\n",
       "      <td>0</td>\n",
       "      <td>1</td>\n",
       "      <td>0</td>\n",
       "      <td>1</td>\n",
       "      <td>0</td>\n",
       "      <td>0</td>\n",
       "      <td>0</td>\n",
       "      <td>1</td>\n",
       "      <td>0</td>\n",
       "      <td>0</td>\n",
       "      <td>0</td>\n",
       "      <td>no</td>\n",
       "    </tr>\n",
       "    <tr>\n",
       "      <th>886</th>\n",
       "      <td>1</td>\n",
       "      <td>0</td>\n",
       "      <td>0</td>\n",
       "      <td>1</td>\n",
       "      <td>1</td>\n",
       "      <td>0</td>\n",
       "      <td>0</td>\n",
       "      <td>0</td>\n",
       "      <td>1</td>\n",
       "      <td>0</td>\n",
       "      <td>0</td>\n",
       "      <td>0</td>\n",
       "      <td>yes</td>\n",
       "    </tr>\n",
       "    <tr>\n",
       "      <th>887</th>\n",
       "      <td>2</td>\n",
       "      <td>0</td>\n",
       "      <td>1</td>\n",
       "      <td>0</td>\n",
       "      <td>0</td>\n",
       "      <td>0</td>\n",
       "      <td>0</td>\n",
       "      <td>1</td>\n",
       "      <td>1</td>\n",
       "      <td>0</td>\n",
       "      <td>0</td>\n",
       "      <td>0</td>\n",
       "      <td>no</td>\n",
       "    </tr>\n",
       "    <tr>\n",
       "      <th>888</th>\n",
       "      <td>1</td>\n",
       "      <td>1</td>\n",
       "      <td>1</td>\n",
       "      <td>0</td>\n",
       "      <td>1</td>\n",
       "      <td>0</td>\n",
       "      <td>0</td>\n",
       "      <td>0</td>\n",
       "      <td>1</td>\n",
       "      <td>0</td>\n",
       "      <td>0</td>\n",
       "      <td>0</td>\n",
       "      <td>yes</td>\n",
       "    </tr>\n",
       "  </tbody>\n",
       "</table>\n",
       "<p>889 rows × 13 columns</p>\n",
       "</div>"
      ],
      "text/plain": [
       "     Gender  Chain_smoker  Consumes_other_tobacco_products  HighBP  Obese  \\\n",
       "0         1             1                                1       0      1   \n",
       "1         1             0                                1       0      1   \n",
       "2         1             0                                1       0      1   \n",
       "3         1             0                                1       0      1   \n",
       "4         1             0                                0       0      0   \n",
       "..      ...           ...                              ...     ...    ...   \n",
       "884       2             0                                1       0      1   \n",
       "885       1             0                                1       0      1   \n",
       "886       1             0                                0       1      1   \n",
       "887       2             0                                1       0      0   \n",
       "888       1             1                                1       0      1   \n",
       "\n",
       "     Diabetes  Metabolic_syndrome  Use_of_stimulant_drugs  Family_history  \\\n",
       "0           0                   0                       0               1   \n",
       "1           0                   0                       0               1   \n",
       "2           0                   0                       0               1   \n",
       "3           0                   0                       0               1   \n",
       "4           0                   1                       1               0   \n",
       "..        ...                 ...                     ...             ...   \n",
       "884         0                   0                       0               1   \n",
       "885         0                   0                       0               1   \n",
       "886         0                   0                       0               1   \n",
       "887         0                   0                       1               1   \n",
       "888         0                   0                       0               1   \n",
       "\n",
       "     History_of_preeclampsia  CABG_history  Respiratory_illness UnderRisk  \n",
       "0                          0             0                    0        no  \n",
       "1                          0             0                    0        no  \n",
       "2                          0             0                    0        no  \n",
       "3                          0             0                    0        no  \n",
       "4                          0             0                    0        no  \n",
       "..                       ...           ...                  ...       ...  \n",
       "884                        0             0                    0        no  \n",
       "885                        0             0                    0        no  \n",
       "886                        0             0                    0       yes  \n",
       "887                        0             0                    0        no  \n",
       "888                        0             0                    0       yes  \n",
       "\n",
       "[889 rows x 13 columns]"
      ]
     },
     "execution_count": 3,
     "metadata": {},
     "output_type": "execute_result"
    }
   ],
   "source": [
    "df"
   ]
  },
  {
   "cell_type": "markdown",
   "metadata": {},
   "source": [
    "# 2. check null values"
   ]
  },
  {
   "cell_type": "code",
   "execution_count": 3,
   "metadata": {},
   "outputs": [
    {
     "data": {
      "text/plain": [
       "Gender                             0\n",
       "Chain_smoker                       0\n",
       "Consumes_other_tobacco_products    0\n",
       "HighBP                             0\n",
       "Obese                              0\n",
       "Diabetes                           0\n",
       "Metabolic_syndrome                 0\n",
       "Use_of_stimulant_drugs             0\n",
       "Family_history                     0\n",
       "History_of_preeclampsia            0\n",
       "CABG_history                       0\n",
       "Respiratory_illness                0\n",
       "UnderRisk                          0\n",
       "dtype: int64"
      ]
     },
     "execution_count": 3,
     "metadata": {},
     "output_type": "execute_result"
    }
   ],
   "source": [
    "df.isnull().sum()"
   ]
  },
  {
   "cell_type": "markdown",
   "metadata": {},
   "source": [
    "#  print information about dataset"
   ]
  },
  {
   "cell_type": "code",
   "execution_count": 4,
   "metadata": {},
   "outputs": [
    {
     "name": "stdout",
     "output_type": "stream",
     "text": [
      "<class 'pandas.core.frame.DataFrame'>\n",
      "RangeIndex: 889 entries, 0 to 888\n",
      "Data columns (total 13 columns):\n",
      " #   Column                           Non-Null Count  Dtype \n",
      "---  ------                           --------------  ----- \n",
      " 0   Gender                           889 non-null    int64 \n",
      " 1   Chain_smoker                     889 non-null    int64 \n",
      " 2   Consumes_other_tobacco_products  889 non-null    int64 \n",
      " 3   HighBP                           889 non-null    int64 \n",
      " 4   Obese                            889 non-null    int64 \n",
      " 5   Diabetes                         889 non-null    int64 \n",
      " 6   Metabolic_syndrome               889 non-null    int64 \n",
      " 7   Use_of_stimulant_drugs           889 non-null    int64 \n",
      " 8   Family_history                   889 non-null    int64 \n",
      " 9   History_of_preeclampsia          889 non-null    int64 \n",
      " 10  CABG_history                     889 non-null    int64 \n",
      " 11  Respiratory_illness              889 non-null    int64 \n",
      " 12  UnderRisk                        889 non-null    object\n",
      "dtypes: int64(12), object(1)\n",
      "memory usage: 90.4+ KB\n"
     ]
    }
   ],
   "source": [
    "df.info()"
   ]
  },
  {
   "cell_type": "markdown",
   "metadata": {},
   "source": [
    "#  Describe dataset in statistic form"
   ]
  },
  {
   "cell_type": "code",
   "execution_count": 4,
   "metadata": {},
   "outputs": [
    {
     "data": {
      "text/html": [
       "<div>\n",
       "<style scoped>\n",
       "    .dataframe tbody tr th:only-of-type {\n",
       "        vertical-align: middle;\n",
       "    }\n",
       "\n",
       "    .dataframe tbody tr th {\n",
       "        vertical-align: top;\n",
       "    }\n",
       "\n",
       "    .dataframe thead th {\n",
       "        text-align: right;\n",
       "    }\n",
       "</style>\n",
       "<table border=\"1\" class=\"dataframe\">\n",
       "  <thead>\n",
       "    <tr style=\"text-align: right;\">\n",
       "      <th></th>\n",
       "      <th>Gender</th>\n",
       "      <th>Chain_smoker</th>\n",
       "      <th>Consumes_other_tobacco_products</th>\n",
       "      <th>HighBP</th>\n",
       "      <th>Obese</th>\n",
       "      <th>Diabetes</th>\n",
       "      <th>Metabolic_syndrome</th>\n",
       "      <th>Use_of_stimulant_drugs</th>\n",
       "      <th>Family_history</th>\n",
       "      <th>History_of_preeclampsia</th>\n",
       "      <th>CABG_history</th>\n",
       "      <th>Respiratory_illness</th>\n",
       "    </tr>\n",
       "  </thead>\n",
       "  <tbody>\n",
       "    <tr>\n",
       "      <th>count</th>\n",
       "      <td>889.000000</td>\n",
       "      <td>889.000000</td>\n",
       "      <td>889.00000</td>\n",
       "      <td>889.000000</td>\n",
       "      <td>889.000000</td>\n",
       "      <td>889.000000</td>\n",
       "      <td>889.000000</td>\n",
       "      <td>889.000000</td>\n",
       "      <td>889.000000</td>\n",
       "      <td>889.000000</td>\n",
       "      <td>889.000000</td>\n",
       "      <td>889.000000</td>\n",
       "    </tr>\n",
       "    <tr>\n",
       "      <th>mean</th>\n",
       "      <td>1.258718</td>\n",
       "      <td>0.120360</td>\n",
       "      <td>0.83802</td>\n",
       "      <td>0.086614</td>\n",
       "      <td>0.919010</td>\n",
       "      <td>0.055118</td>\n",
       "      <td>0.042745</td>\n",
       "      <td>0.082115</td>\n",
       "      <td>0.925759</td>\n",
       "      <td>0.017998</td>\n",
       "      <td>0.021372</td>\n",
       "      <td>0.032621</td>\n",
       "    </tr>\n",
       "    <tr>\n",
       "      <th>std</th>\n",
       "      <td>0.500557</td>\n",
       "      <td>0.325565</td>\n",
       "      <td>0.36864</td>\n",
       "      <td>0.281427</td>\n",
       "      <td>0.272973</td>\n",
       "      <td>0.228339</td>\n",
       "      <td>0.202395</td>\n",
       "      <td>0.274694</td>\n",
       "      <td>0.262310</td>\n",
       "      <td>0.133018</td>\n",
       "      <td>0.144704</td>\n",
       "      <td>0.177742</td>\n",
       "    </tr>\n",
       "    <tr>\n",
       "      <th>min</th>\n",
       "      <td>0.000000</td>\n",
       "      <td>0.000000</td>\n",
       "      <td>0.00000</td>\n",
       "      <td>0.000000</td>\n",
       "      <td>0.000000</td>\n",
       "      <td>0.000000</td>\n",
       "      <td>0.000000</td>\n",
       "      <td>0.000000</td>\n",
       "      <td>0.000000</td>\n",
       "      <td>0.000000</td>\n",
       "      <td>0.000000</td>\n",
       "      <td>0.000000</td>\n",
       "    </tr>\n",
       "    <tr>\n",
       "      <th>25%</th>\n",
       "      <td>1.000000</td>\n",
       "      <td>0.000000</td>\n",
       "      <td>1.00000</td>\n",
       "      <td>0.000000</td>\n",
       "      <td>1.000000</td>\n",
       "      <td>0.000000</td>\n",
       "      <td>0.000000</td>\n",
       "      <td>0.000000</td>\n",
       "      <td>1.000000</td>\n",
       "      <td>0.000000</td>\n",
       "      <td>0.000000</td>\n",
       "      <td>0.000000</td>\n",
       "    </tr>\n",
       "    <tr>\n",
       "      <th>50%</th>\n",
       "      <td>1.000000</td>\n",
       "      <td>0.000000</td>\n",
       "      <td>1.00000</td>\n",
       "      <td>0.000000</td>\n",
       "      <td>1.000000</td>\n",
       "      <td>0.000000</td>\n",
       "      <td>0.000000</td>\n",
       "      <td>0.000000</td>\n",
       "      <td>1.000000</td>\n",
       "      <td>0.000000</td>\n",
       "      <td>0.000000</td>\n",
       "      <td>0.000000</td>\n",
       "    </tr>\n",
       "    <tr>\n",
       "      <th>75%</th>\n",
       "      <td>2.000000</td>\n",
       "      <td>0.000000</td>\n",
       "      <td>1.00000</td>\n",
       "      <td>0.000000</td>\n",
       "      <td>1.000000</td>\n",
       "      <td>0.000000</td>\n",
       "      <td>0.000000</td>\n",
       "      <td>0.000000</td>\n",
       "      <td>1.000000</td>\n",
       "      <td>0.000000</td>\n",
       "      <td>0.000000</td>\n",
       "      <td>0.000000</td>\n",
       "    </tr>\n",
       "    <tr>\n",
       "      <th>max</th>\n",
       "      <td>2.000000</td>\n",
       "      <td>1.000000</td>\n",
       "      <td>1.00000</td>\n",
       "      <td>1.000000</td>\n",
       "      <td>1.000000</td>\n",
       "      <td>1.000000</td>\n",
       "      <td>1.000000</td>\n",
       "      <td>1.000000</td>\n",
       "      <td>1.000000</td>\n",
       "      <td>1.000000</td>\n",
       "      <td>1.000000</td>\n",
       "      <td>1.000000</td>\n",
       "    </tr>\n",
       "  </tbody>\n",
       "</table>\n",
       "</div>"
      ],
      "text/plain": [
       "           Gender  Chain_smoker  Consumes_other_tobacco_products      HighBP  \\\n",
       "count  889.000000    889.000000                        889.00000  889.000000   \n",
       "mean     1.258718      0.120360                          0.83802    0.086614   \n",
       "std      0.500557      0.325565                          0.36864    0.281427   \n",
       "min      0.000000      0.000000                          0.00000    0.000000   \n",
       "25%      1.000000      0.000000                          1.00000    0.000000   \n",
       "50%      1.000000      0.000000                          1.00000    0.000000   \n",
       "75%      2.000000      0.000000                          1.00000    0.000000   \n",
       "max      2.000000      1.000000                          1.00000    1.000000   \n",
       "\n",
       "            Obese    Diabetes  Metabolic_syndrome  Use_of_stimulant_drugs  \\\n",
       "count  889.000000  889.000000          889.000000              889.000000   \n",
       "mean     0.919010    0.055118            0.042745                0.082115   \n",
       "std      0.272973    0.228339            0.202395                0.274694   \n",
       "min      0.000000    0.000000            0.000000                0.000000   \n",
       "25%      1.000000    0.000000            0.000000                0.000000   \n",
       "50%      1.000000    0.000000            0.000000                0.000000   \n",
       "75%      1.000000    0.000000            0.000000                0.000000   \n",
       "max      1.000000    1.000000            1.000000                1.000000   \n",
       "\n",
       "       Family_history  History_of_preeclampsia  CABG_history  \\\n",
       "count      889.000000               889.000000    889.000000   \n",
       "mean         0.925759                 0.017998      0.021372   \n",
       "std          0.262310                 0.133018      0.144704   \n",
       "min          0.000000                 0.000000      0.000000   \n",
       "25%          1.000000                 0.000000      0.000000   \n",
       "50%          1.000000                 0.000000      0.000000   \n",
       "75%          1.000000                 0.000000      0.000000   \n",
       "max          1.000000                 1.000000      1.000000   \n",
       "\n",
       "       Respiratory_illness  \n",
       "count           889.000000  \n",
       "mean              0.032621  \n",
       "std               0.177742  \n",
       "min               0.000000  \n",
       "25%               0.000000  \n",
       "50%               0.000000  \n",
       "75%               0.000000  \n",
       "max               1.000000  "
      ]
     },
     "execution_count": 4,
     "metadata": {},
     "output_type": "execute_result"
    }
   ],
   "source": [
    "df.describe()"
   ]
  },
  {
   "cell_type": "code",
   "execution_count": 5,
   "metadata": {},
   "outputs": [
    {
     "data": {
      "text/html": [
       "<div>\n",
       "<style scoped>\n",
       "    .dataframe tbody tr th:only-of-type {\n",
       "        vertical-align: middle;\n",
       "    }\n",
       "\n",
       "    .dataframe tbody tr th {\n",
       "        vertical-align: top;\n",
       "    }\n",
       "\n",
       "    .dataframe thead th {\n",
       "        text-align: right;\n",
       "    }\n",
       "</style>\n",
       "<table border=\"1\" class=\"dataframe\">\n",
       "  <thead>\n",
       "    <tr style=\"text-align: right;\">\n",
       "      <th></th>\n",
       "      <th>Gender</th>\n",
       "      <th>Chain_smoker</th>\n",
       "      <th>Consumes_other_tobacco_products</th>\n",
       "      <th>HighBP</th>\n",
       "      <th>Obese</th>\n",
       "      <th>Diabetes</th>\n",
       "      <th>Metabolic_syndrome</th>\n",
       "      <th>Use_of_stimulant_drugs</th>\n",
       "      <th>Family_history</th>\n",
       "      <th>History_of_preeclampsia</th>\n",
       "      <th>CABG_history</th>\n",
       "      <th>Respiratory_illness</th>\n",
       "      <th>UnderRisk</th>\n",
       "    </tr>\n",
       "  </thead>\n",
       "  <tbody>\n",
       "    <tr>\n",
       "      <th>0</th>\n",
       "      <td>1</td>\n",
       "      <td>1</td>\n",
       "      <td>1</td>\n",
       "      <td>0</td>\n",
       "      <td>1</td>\n",
       "      <td>0</td>\n",
       "      <td>0</td>\n",
       "      <td>0</td>\n",
       "      <td>1</td>\n",
       "      <td>0</td>\n",
       "      <td>0</td>\n",
       "      <td>0</td>\n",
       "      <td>no</td>\n",
       "    </tr>\n",
       "    <tr>\n",
       "      <th>1</th>\n",
       "      <td>1</td>\n",
       "      <td>0</td>\n",
       "      <td>1</td>\n",
       "      <td>0</td>\n",
       "      <td>1</td>\n",
       "      <td>0</td>\n",
       "      <td>0</td>\n",
       "      <td>0</td>\n",
       "      <td>1</td>\n",
       "      <td>0</td>\n",
       "      <td>0</td>\n",
       "      <td>0</td>\n",
       "      <td>no</td>\n",
       "    </tr>\n",
       "    <tr>\n",
       "      <th>2</th>\n",
       "      <td>1</td>\n",
       "      <td>0</td>\n",
       "      <td>1</td>\n",
       "      <td>0</td>\n",
       "      <td>1</td>\n",
       "      <td>0</td>\n",
       "      <td>0</td>\n",
       "      <td>0</td>\n",
       "      <td>1</td>\n",
       "      <td>0</td>\n",
       "      <td>0</td>\n",
       "      <td>0</td>\n",
       "      <td>no</td>\n",
       "    </tr>\n",
       "    <tr>\n",
       "      <th>3</th>\n",
       "      <td>1</td>\n",
       "      <td>0</td>\n",
       "      <td>1</td>\n",
       "      <td>0</td>\n",
       "      <td>1</td>\n",
       "      <td>0</td>\n",
       "      <td>0</td>\n",
       "      <td>0</td>\n",
       "      <td>1</td>\n",
       "      <td>0</td>\n",
       "      <td>0</td>\n",
       "      <td>0</td>\n",
       "      <td>no</td>\n",
       "    </tr>\n",
       "    <tr>\n",
       "      <th>4</th>\n",
       "      <td>1</td>\n",
       "      <td>0</td>\n",
       "      <td>0</td>\n",
       "      <td>0</td>\n",
       "      <td>0</td>\n",
       "      <td>0</td>\n",
       "      <td>1</td>\n",
       "      <td>1</td>\n",
       "      <td>0</td>\n",
       "      <td>0</td>\n",
       "      <td>0</td>\n",
       "      <td>0</td>\n",
       "      <td>no</td>\n",
       "    </tr>\n",
       "  </tbody>\n",
       "</table>\n",
       "</div>"
      ],
      "text/plain": [
       "   Gender  Chain_smoker  Consumes_other_tobacco_products  HighBP  Obese  \\\n",
       "0       1             1                                1       0      1   \n",
       "1       1             0                                1       0      1   \n",
       "2       1             0                                1       0      1   \n",
       "3       1             0                                1       0      1   \n",
       "4       1             0                                0       0      0   \n",
       "\n",
       "   Diabetes  Metabolic_syndrome  Use_of_stimulant_drugs  Family_history  \\\n",
       "0         0                   0                       0               1   \n",
       "1         0                   0                       0               1   \n",
       "2         0                   0                       0               1   \n",
       "3         0                   0                       0               1   \n",
       "4         0                   1                       1               0   \n",
       "\n",
       "   History_of_preeclampsia  CABG_history  Respiratory_illness UnderRisk  \n",
       "0                        0             0                    0        no  \n",
       "1                        0             0                    0        no  \n",
       "2                        0             0                    0        no  \n",
       "3                        0             0                    0        no  \n",
       "4                        0             0                    0        no  "
      ]
     },
     "execution_count": 5,
     "metadata": {},
     "output_type": "execute_result"
    }
   ],
   "source": [
    "df.head()"
   ]
  },
  {
   "cell_type": "code",
   "execution_count": 4,
   "metadata": {},
   "outputs": [
    {
     "data": {
      "text/html": [
       "<div>\n",
       "<style scoped>\n",
       "    .dataframe tbody tr th:only-of-type {\n",
       "        vertical-align: middle;\n",
       "    }\n",
       "\n",
       "    .dataframe tbody tr th {\n",
       "        vertical-align: top;\n",
       "    }\n",
       "\n",
       "    .dataframe thead th {\n",
       "        text-align: right;\n",
       "    }\n",
       "</style>\n",
       "<table border=\"1\" class=\"dataframe\">\n",
       "  <thead>\n",
       "    <tr style=\"text-align: right;\">\n",
       "      <th></th>\n",
       "      <th>Gender</th>\n",
       "      <th>Chain_smoker</th>\n",
       "      <th>Consumes_other_tobacco_products</th>\n",
       "      <th>HighBP</th>\n",
       "      <th>Obese</th>\n",
       "      <th>Diabetes</th>\n",
       "      <th>Metabolic_syndrome</th>\n",
       "      <th>Use_of_stimulant_drugs</th>\n",
       "      <th>Family_history</th>\n",
       "      <th>History_of_preeclampsia</th>\n",
       "      <th>CABG_history</th>\n",
       "      <th>Respiratory_illness</th>\n",
       "    </tr>\n",
       "  </thead>\n",
       "  <tbody>\n",
       "    <tr>\n",
       "      <th>Gender</th>\n",
       "      <td>1.000000</td>\n",
       "      <td>-0.087642</td>\n",
       "      <td>0.111409</td>\n",
       "      <td>-0.039341</td>\n",
       "      <td>0.038140</td>\n",
       "      <td>-0.055935</td>\n",
       "      <td>-0.109281</td>\n",
       "      <td>-0.031830</td>\n",
       "      <td>0.052106</td>\n",
       "      <td>-0.086925</td>\n",
       "      <td>-0.045330</td>\n",
       "      <td>0.031608</td>\n",
       "    </tr>\n",
       "    <tr>\n",
       "      <th>Chain_smoker</th>\n",
       "      <td>-0.087642</td>\n",
       "      <td>1.000000</td>\n",
       "      <td>-0.137633</td>\n",
       "      <td>0.082746</td>\n",
       "      <td>0.059124</td>\n",
       "      <td>-0.043895</td>\n",
       "      <td>-0.009804</td>\n",
       "      <td>-0.060270</td>\n",
       "      <td>-0.000742</td>\n",
       "      <td>0.053938</td>\n",
       "      <td>0.064855</td>\n",
       "      <td>-0.029005</td>\n",
       "    </tr>\n",
       "    <tr>\n",
       "      <th>Consumes_other_tobacco_products</th>\n",
       "      <td>0.111409</td>\n",
       "      <td>-0.137633</td>\n",
       "      <td>1.000000</td>\n",
       "      <td>-0.081710</td>\n",
       "      <td>0.194022</td>\n",
       "      <td>0.052671</td>\n",
       "      <td>-0.359898</td>\n",
       "      <td>-0.191005</td>\n",
       "      <td>0.434498</td>\n",
       "      <td>0.059519</td>\n",
       "      <td>-0.040583</td>\n",
       "      <td>0.011986</td>\n",
       "    </tr>\n",
       "    <tr>\n",
       "      <th>HighBP</th>\n",
       "      <td>-0.039341</td>\n",
       "      <td>0.082746</td>\n",
       "      <td>-0.081710</td>\n",
       "      <td>1.000000</td>\n",
       "      <td>0.032781</td>\n",
       "      <td>-0.056850</td>\n",
       "      <td>-0.045301</td>\n",
       "      <td>-0.033837</td>\n",
       "      <td>0.071950</td>\n",
       "      <td>-0.011607</td>\n",
       "      <td>-0.017855</td>\n",
       "      <td>0.056016</td>\n",
       "    </tr>\n",
       "    <tr>\n",
       "      <th>Obese</th>\n",
       "      <td>0.038140</td>\n",
       "      <td>0.059124</td>\n",
       "      <td>0.194022</td>\n",
       "      <td>0.032781</td>\n",
       "      <td>1.000000</td>\n",
       "      <td>-0.000569</td>\n",
       "      <td>-0.691440</td>\n",
       "      <td>-0.992519</td>\n",
       "      <td>0.450659</td>\n",
       "      <td>0.040189</td>\n",
       "      <td>0.015361</td>\n",
       "      <td>0.008093</td>\n",
       "    </tr>\n",
       "    <tr>\n",
       "      <th>Diabetes</th>\n",
       "      <td>-0.055935</td>\n",
       "      <td>-0.043895</td>\n",
       "      <td>0.052671</td>\n",
       "      <td>-0.056850</td>\n",
       "      <td>-0.000569</td>\n",
       "      <td>1.000000</td>\n",
       "      <td>0.022065</td>\n",
       "      <td>-0.000424</td>\n",
       "      <td>-0.082016</td>\n",
       "      <td>0.189761</td>\n",
       "      <td>0.066554</td>\n",
       "      <td>-0.016604</td>\n",
       "    </tr>\n",
       "    <tr>\n",
       "      <th>Metabolic_syndrome</th>\n",
       "      <td>-0.109281</td>\n",
       "      <td>-0.009804</td>\n",
       "      <td>-0.359898</td>\n",
       "      <td>-0.045301</td>\n",
       "      <td>-0.691440</td>\n",
       "      <td>0.022065</td>\n",
       "      <td>1.000000</td>\n",
       "      <td>0.686242</td>\n",
       "      <td>-0.661353</td>\n",
       "      <td>-0.028607</td>\n",
       "      <td>-0.031228</td>\n",
       "      <td>-0.038804</td>\n",
       "    </tr>\n",
       "    <tr>\n",
       "      <th>Use_of_stimulant_drugs</th>\n",
       "      <td>-0.031830</td>\n",
       "      <td>-0.060270</td>\n",
       "      <td>-0.191005</td>\n",
       "      <td>-0.033837</td>\n",
       "      <td>-0.992519</td>\n",
       "      <td>-0.000424</td>\n",
       "      <td>0.686242</td>\n",
       "      <td>1.000000</td>\n",
       "      <td>-0.446675</td>\n",
       "      <td>-0.040492</td>\n",
       "      <td>-0.015870</td>\n",
       "      <td>-0.008795</td>\n",
       "    </tr>\n",
       "    <tr>\n",
       "      <th>Family_history</th>\n",
       "      <td>0.052106</td>\n",
       "      <td>-0.000742</td>\n",
       "      <td>0.434498</td>\n",
       "      <td>0.071950</td>\n",
       "      <td>0.450659</td>\n",
       "      <td>-0.082016</td>\n",
       "      <td>-0.661353</td>\n",
       "      <td>-0.446675</td>\n",
       "      <td>1.000000</td>\n",
       "      <td>0.006063</td>\n",
       "      <td>0.041849</td>\n",
       "      <td>0.052002</td>\n",
       "    </tr>\n",
       "    <tr>\n",
       "      <th>History_of_preeclampsia</th>\n",
       "      <td>-0.086925</td>\n",
       "      <td>0.053938</td>\n",
       "      <td>0.059519</td>\n",
       "      <td>-0.011607</td>\n",
       "      <td>0.040189</td>\n",
       "      <td>0.189761</td>\n",
       "      <td>-0.028607</td>\n",
       "      <td>-0.040492</td>\n",
       "      <td>0.006063</td>\n",
       "      <td>1.000000</td>\n",
       "      <td>-0.020006</td>\n",
       "      <td>-0.024860</td>\n",
       "    </tr>\n",
       "    <tr>\n",
       "      <th>CABG_history</th>\n",
       "      <td>-0.045330</td>\n",
       "      <td>0.064855</td>\n",
       "      <td>-0.040583</td>\n",
       "      <td>-0.017855</td>\n",
       "      <td>0.015361</td>\n",
       "      <td>0.066554</td>\n",
       "      <td>-0.031228</td>\n",
       "      <td>-0.015870</td>\n",
       "      <td>0.041849</td>\n",
       "      <td>-0.020006</td>\n",
       "      <td>1.000000</td>\n",
       "      <td>-0.027137</td>\n",
       "    </tr>\n",
       "    <tr>\n",
       "      <th>Respiratory_illness</th>\n",
       "      <td>0.031608</td>\n",
       "      <td>-0.029005</td>\n",
       "      <td>0.011986</td>\n",
       "      <td>0.056016</td>\n",
       "      <td>0.008093</td>\n",
       "      <td>-0.016604</td>\n",
       "      <td>-0.038804</td>\n",
       "      <td>-0.008795</td>\n",
       "      <td>0.052002</td>\n",
       "      <td>-0.024860</td>\n",
       "      <td>-0.027137</td>\n",
       "      <td>1.000000</td>\n",
       "    </tr>\n",
       "  </tbody>\n",
       "</table>\n",
       "</div>"
      ],
      "text/plain": [
       "                                   Gender  Chain_smoker  \\\n",
       "Gender                           1.000000     -0.087642   \n",
       "Chain_smoker                    -0.087642      1.000000   \n",
       "Consumes_other_tobacco_products  0.111409     -0.137633   \n",
       "HighBP                          -0.039341      0.082746   \n",
       "Obese                            0.038140      0.059124   \n",
       "Diabetes                        -0.055935     -0.043895   \n",
       "Metabolic_syndrome              -0.109281     -0.009804   \n",
       "Use_of_stimulant_drugs          -0.031830     -0.060270   \n",
       "Family_history                   0.052106     -0.000742   \n",
       "History_of_preeclampsia         -0.086925      0.053938   \n",
       "CABG_history                    -0.045330      0.064855   \n",
       "Respiratory_illness              0.031608     -0.029005   \n",
       "\n",
       "                                 Consumes_other_tobacco_products    HighBP  \\\n",
       "Gender                                                  0.111409 -0.039341   \n",
       "Chain_smoker                                           -0.137633  0.082746   \n",
       "Consumes_other_tobacco_products                         1.000000 -0.081710   \n",
       "HighBP                                                 -0.081710  1.000000   \n",
       "Obese                                                   0.194022  0.032781   \n",
       "Diabetes                                                0.052671 -0.056850   \n",
       "Metabolic_syndrome                                     -0.359898 -0.045301   \n",
       "Use_of_stimulant_drugs                                 -0.191005 -0.033837   \n",
       "Family_history                                          0.434498  0.071950   \n",
       "History_of_preeclampsia                                 0.059519 -0.011607   \n",
       "CABG_history                                           -0.040583 -0.017855   \n",
       "Respiratory_illness                                     0.011986  0.056016   \n",
       "\n",
       "                                    Obese  Diabetes  Metabolic_syndrome  \\\n",
       "Gender                           0.038140 -0.055935           -0.109281   \n",
       "Chain_smoker                     0.059124 -0.043895           -0.009804   \n",
       "Consumes_other_tobacco_products  0.194022  0.052671           -0.359898   \n",
       "HighBP                           0.032781 -0.056850           -0.045301   \n",
       "Obese                            1.000000 -0.000569           -0.691440   \n",
       "Diabetes                        -0.000569  1.000000            0.022065   \n",
       "Metabolic_syndrome              -0.691440  0.022065            1.000000   \n",
       "Use_of_stimulant_drugs          -0.992519 -0.000424            0.686242   \n",
       "Family_history                   0.450659 -0.082016           -0.661353   \n",
       "History_of_preeclampsia          0.040189  0.189761           -0.028607   \n",
       "CABG_history                     0.015361  0.066554           -0.031228   \n",
       "Respiratory_illness              0.008093 -0.016604           -0.038804   \n",
       "\n",
       "                                 Use_of_stimulant_drugs  Family_history  \\\n",
       "Gender                                        -0.031830        0.052106   \n",
       "Chain_smoker                                  -0.060270       -0.000742   \n",
       "Consumes_other_tobacco_products               -0.191005        0.434498   \n",
       "HighBP                                        -0.033837        0.071950   \n",
       "Obese                                         -0.992519        0.450659   \n",
       "Diabetes                                      -0.000424       -0.082016   \n",
       "Metabolic_syndrome                             0.686242       -0.661353   \n",
       "Use_of_stimulant_drugs                         1.000000       -0.446675   \n",
       "Family_history                                -0.446675        1.000000   \n",
       "History_of_preeclampsia                       -0.040492        0.006063   \n",
       "CABG_history                                  -0.015870        0.041849   \n",
       "Respiratory_illness                           -0.008795        0.052002   \n",
       "\n",
       "                                 History_of_preeclampsia  CABG_history  \\\n",
       "Gender                                         -0.086925     -0.045330   \n",
       "Chain_smoker                                    0.053938      0.064855   \n",
       "Consumes_other_tobacco_products                 0.059519     -0.040583   \n",
       "HighBP                                         -0.011607     -0.017855   \n",
       "Obese                                           0.040189      0.015361   \n",
       "Diabetes                                        0.189761      0.066554   \n",
       "Metabolic_syndrome                             -0.028607     -0.031228   \n",
       "Use_of_stimulant_drugs                         -0.040492     -0.015870   \n",
       "Family_history                                  0.006063      0.041849   \n",
       "History_of_preeclampsia                         1.000000     -0.020006   \n",
       "CABG_history                                   -0.020006      1.000000   \n",
       "Respiratory_illness                            -0.024860     -0.027137   \n",
       "\n",
       "                                 Respiratory_illness  \n",
       "Gender                                      0.031608  \n",
       "Chain_smoker                               -0.029005  \n",
       "Consumes_other_tobacco_products             0.011986  \n",
       "HighBP                                      0.056016  \n",
       "Obese                                       0.008093  \n",
       "Diabetes                                   -0.016604  \n",
       "Metabolic_syndrome                         -0.038804  \n",
       "Use_of_stimulant_drugs                     -0.008795  \n",
       "Family_history                              0.052002  \n",
       "History_of_preeclampsia                    -0.024860  \n",
       "CABG_history                               -0.027137  \n",
       "Respiratory_illness                         1.000000  "
      ]
     },
     "execution_count": 4,
     "metadata": {},
     "output_type": "execute_result"
    }
   ],
   "source": [
    "df.corr()"
   ]
  },
  {
   "cell_type": "code",
   "execution_count": 9,
   "metadata": {},
   "outputs": [
    {
     "data": {
      "text/plain": [
       "<AxesSubplot:xlabel='UnderRisk', ylabel='Count'>"
      ]
     },
     "execution_count": 9,
     "metadata": {},
     "output_type": "execute_result"
    },
    {
     "data": {
      "image/png": "[encoded data removed]",
      "text/plain": [
       "<Figure size 432x288 with 1 Axes>"
      ]
     },
     "metadata": {
      "needs_background": "light"
     },
     "output_type": "display_data"
    }
   ],
   "source": [
    "sns.histplot(df.UnderRisk)"
   ]
  },
  {
   "cell_type": "code",
   "execution_count": 10,
   "metadata": {},
   "outputs": [
    {
     "data": {
      "text/plain": [
       "<AxesSubplot:xlabel='Obese', ylabel='Count'>"
      ]
     },
     "execution_count": 10,
     "metadata": {},
     "output_type": "execute_result"
    },
    {
     "data": {
      "image/png": "[encoded data removed]",
      "text/plain": [
       "<Figure size 432x288 with 1 Axes>"
      ]
     },
     "metadata": {
      "needs_background": "light"
     },
     "output_type": "display_data"
    }
   ],
   "source": [
    "sns.histplot(df.Obese)"
   ]
  },
  {
   "cell_type": "code",
   "execution_count": 18,
   "metadata": {},
   "outputs": [
    {
     "data": {
      "text/plain": [
       "<AxesSubplot:>"
      ]
     },
     "execution_count": 18,
     "metadata": {},
     "output_type": "execute_result"
    },
    {
     "data": {
      "image/png": "[encoded data removed]",
      "text/plain": [
       "<Figure size 1080x720 with 2 Axes>"
      ]
     },
     "metadata": {
      "needs_background": "light"
     },
     "output_type": "display_data"
    }
   ],
   "source": [
    "plt.figure(figsize = (15,10))\n",
    "sns.heatmap(df.corr(), annot=True)"
   ]
  },
  {
   "cell_type": "markdown",
   "metadata": {},
   "source": [
    "#  drop underrisk column"
   ]
  },
  {
   "cell_type": "code",
   "execution_count": 19,
   "metadata": {},
   "outputs": [],
   "source": [
    "df_1 = df.drop('UnderRisk',axis=1)"
   ]
  },
  {
   "cell_type": "markdown",
   "metadata": {},
   "source": [
    "#  Apply Kmean clustering on dataset "
   ]
  },
  {
   "cell_type": "code",
   "execution_count": 20,
   "metadata": {},
   "outputs": [],
   "source": [
    "from sklearn.cluster import KMeans\n"
   ]
  },
  {
   "cell_type": "code",
   "execution_count": 21,
   "metadata": {},
   "outputs": [
    {
     "data": {
      "text/plain": [
       "KMeans(n_clusters=2, random_state=11)"
      ]
     },
     "execution_count": 21,
     "metadata": {},
     "output_type": "execute_result"
    }
   ],
   "source": [
    "cls = KMeans(n_clusters = 2,random_state=11 )\n",
    "cls.fit(df_1)"
   ]
  },
  {
   "cell_type": "markdown",
   "metadata": {},
   "source": [
    "# check the wcss score"
   ]
  },
  {
   "cell_type": "code",
   "execution_count": 22,
   "metadata": {},
   "outputs": [
    {
     "data": {
      "text/plain": [
       "645.4620853080565"
      ]
     },
     "execution_count": 22,
     "metadata": {},
     "output_type": "execute_result"
    }
   ],
   "source": [
    "wcss = cls.inertia_\n",
    "wcss\n",
    "#WCSS is the sum of squared distance between each point and the centroid in a cluster. "
   ]
  },
  {
   "cell_type": "markdown",
   "metadata": {},
   "source": [
    "#  try different n and find wcss score"
   ]
  },
  {
   "cell_type": "code",
   "execution_count": 31,
   "metadata": {},
   "outputs": [],
   "source": [
    "#create empty list\n",
    "wcss = []\n",
    "#select k value from 1 to 10\n",
    "for i in range(1, 13):\n",
    "    cls = KMeans(n_clusters = i, random_state = 21)\n",
    "    cls.fit(df_1)\n",
    "    # inertia method returns wcss for that model\n",
    "    wcss.append(cls.inertia_)"
   ]
  },
  {
   "cell_type": "markdown",
   "metadata": {},
   "source": [
    "#  plot all wcss score"
   ]
  },
  {
   "cell_type": "code",
   "execution_count": 32,
   "metadata": {},
   "outputs": [
    {
     "name": "stderr",
     "output_type": "stream",
     "text": [
      "C:\\Users\\CREATOR\\AppData\\Local\\Programs\\Python\\Python310\\lib\\site-packages\\seaborn\\_decorators.py:36: FutureWarning: Pass the following variables as keyword args: x, y. From version 0.12, the only valid positional argument will be `data`, and passing other arguments without an explicit keyword will result in an error or misinterpretation.\n",
      "  warnings.warn(\n"
     ]
    },
    {
     "data": {
      "image/png": "[encoded data removed]",
      "text/plain": [
       "<Figure size 1080x576 with 1 Axes>"
      ]
     },
     "metadata": {
      "needs_background": "light"
     },
     "output_type": "display_data"
    }
   ],
   "source": [
    "plt.figure(figsize=(15,8))\n",
    "sns.lineplot(range(1, 13), wcss,marker='o',color='red')\n",
    "plt.title('The Elbow Method')\n",
    "plt.xlabel('Number of clusters')\n",
    "plt.ylabel('WCSS')\n",
    "plt.show()"
   ]
  },
  {
   "cell_type": "markdown",
   "metadata": {},
   "source": [
    "# again kmeans with best no. cluster according wo wcss score"
   ]
  },
  {
   "cell_type": "code",
   "execution_count": 33,
   "metadata": {},
   "outputs": [],
   "source": [
    "# Fitting K-Means to the dataset\n",
    "kmeans = KMeans(n_clusters = 6, init = 'k-means++', random_state = 11)\n",
    "y_kmeans = kmeans.fit_predict(df_1)\n",
    "\n"
   ]
  },
  {
   "cell_type": "code",
   "execution_count": 34,
   "metadata": {},
   "outputs": [
    {
     "data": {
      "text/plain": [
       "array([2, 3, 3, 3, 4, 0, 4, 0, 3, 4, 3, 0, 1, 3, 3, 3, 0, 3, 1, 3, 3, 3,\n",
       "       1, 0, 3, 1, 5, 4, 3, 5, 0, 2, 0, 2, 0, 3, 3, 0, 3, 3, 3, 0, 1, 0,\n",
       "       5, 0, 0, 3, 0, 4, 3, 1, 3, 0, 3, 3, 3, 3, 0, 3, 0, 0, 3, 3, 3, 3,\n",
       "       3, 5, 3, 2, 0, 3, 1, 3, 3, 5, 2, 1, 3, 2, 2, 1, 0, 4, 3, 0, 3, 2,\n",
       "       1, 3, 1, 0, 1, 3, 3, 3, 1, 3, 2, 0, 3, 3, 0, 3, 3, 5, 3, 0, 0, 5,\n",
       "       0, 3, 1, 3, 3, 0, 0, 3, 0, 4, 4, 1, 3, 0, 4, 3, 3, 1, 1, 0, 1, 1,\n",
       "       1, 3, 3, 1, 0, 0, 0, 5, 1, 3, 3, 0, 0, 3, 3, 2, 4, 3, 2, 3, 3, 0,\n",
       "       3, 5, 1, 3, 3, 3, 3, 2, 4, 1, 1, 0, 0, 0, 4, 1, 3, 1, 3, 3, 3, 3,\n",
       "       3, 2, 3, 0, 0, 3, 3, 3, 0, 0, 3, 3, 2, 0, 3, 3, 0, 0, 3, 3, 3, 1,\n",
       "       1, 3, 0, 0, 2, 0, 0, 2, 1, 3, 0, 4, 3, 0, 3, 3, 1, 3, 0, 5, 3, 3,\n",
       "       1, 3, 3, 4, 3, 3, 3, 3, 1, 1, 3, 3, 0, 5, 3, 1, 4, 1, 0, 3, 3, 0,\n",
       "       0, 3, 3, 3, 3, 3, 0, 0, 3, 4, 3, 3, 1, 3, 0, 2, 3, 0, 3, 3, 3, 3,\n",
       "       3, 2, 0, 5, 1, 0, 0, 3, 0, 1, 3, 0, 3, 0, 3, 0, 3, 3, 2, 3, 4, 3,\n",
       "       3, 5, 1, 0, 0, 3, 3, 3, 2, 0, 3, 1, 0, 0, 5, 1, 0, 3, 3, 3, 3, 3,\n",
       "       3, 4, 3, 0, 4, 3, 0, 4, 0, 2, 3, 3, 3, 1, 4, 3, 3, 4, 4, 0, 0, 3,\n",
       "       3, 3, 4, 3, 3, 0, 3, 4, 2, 1, 4, 0, 0, 5, 3, 4, 4, 0, 0, 0, 0, 4,\n",
       "       3, 3, 3, 3, 2, 2, 0, 3, 0, 3, 3, 3, 1, 3, 3, 3, 4, 0, 0, 2, 0, 3,\n",
       "       0, 1, 3, 4, 3, 0, 0, 3, 0, 3, 2, 3, 0, 3, 3, 0, 0, 0, 1, 3, 3, 4,\n",
       "       3, 3, 1, 2, 3, 4, 3, 0, 2, 3, 3, 3, 3, 0, 3, 0, 2, 3, 1, 0, 3, 0,\n",
       "       0, 4, 0, 1, 3, 0, 4, 0, 1, 2, 3, 3, 5, 4, 3, 3, 0, 3, 0, 3, 2, 3,\n",
       "       3, 0, 0, 0, 3, 3, 4, 0, 2, 1, 3, 4, 3, 3, 3, 3, 0, 3, 3, 3, 3, 3,\n",
       "       3, 3, 4, 0, 4, 4, 3, 0, 1, 3, 4, 3, 1, 3, 4, 3, 4, 3, 2, 0, 3, 0,\n",
       "       0, 3, 3, 3, 3, 0, 3, 3, 0, 3, 0, 2, 3, 3, 3, 2, 0, 3, 3, 3, 3, 0,\n",
       "       3, 3, 3, 0, 3, 3, 4, 3, 3, 1, 4, 3, 4, 0, 0, 0, 3, 4, 4, 0, 4, 3,\n",
       "       0, 1, 1, 0, 0, 3, 0, 0, 3, 2, 0, 3, 3, 0, 0, 2, 5, 1, 3, 1, 3, 2,\n",
       "       1, 1, 3, 4, 3, 0, 4, 3, 3, 3, 1, 3, 1, 2, 0, 0, 2, 3, 0, 3, 5, 2,\n",
       "       3, 3, 1, 3, 2, 0, 3, 3, 1, 3, 3, 2, 2, 0, 5, 3, 2, 0, 0, 3, 3, 3,\n",
       "       0, 4, 3, 0, 3, 3, 4, 4, 0, 5, 1, 1, 1, 3, 3, 2, 2, 0, 3, 1, 3, 1,\n",
       "       3, 3, 3, 0, 0, 0, 3, 5, 2, 3, 3, 0, 0, 3, 3, 5, 1, 3, 0, 3, 5, 3,\n",
       "       3, 4, 3, 0, 0, 0, 3, 3, 3, 3, 3, 0, 3, 0, 3, 0, 3, 3, 1, 3, 3, 3,\n",
       "       3, 5, 3, 2, 3, 3, 3, 1, 0, 0, 3, 1, 0, 0, 0, 4, 0, 0, 5, 3, 0, 0,\n",
       "       1, 3, 3, 0, 0, 0, 3, 3, 1, 3, 2, 2, 3, 1, 0, 4, 3, 0, 3, 4, 0, 1,\n",
       "       2, 0, 0, 4, 4, 0, 3, 1, 0, 3, 0, 3, 0, 3, 0, 3, 2, 3, 2, 0, 0, 0,\n",
       "       4, 3, 3, 0, 3, 1, 1, 3, 3, 3, 3, 3, 0, 3, 3, 2, 3, 5, 5, 2, 0, 1,\n",
       "       3, 1, 2, 0, 3, 3, 0, 1, 3, 1, 2, 3, 4, 4, 3, 4, 3, 0, 3, 5, 3, 1,\n",
       "       3, 3, 3, 1, 0, 0, 3, 5, 3, 0, 4, 3, 5, 0, 3, 0, 3, 3, 3, 3, 0, 5,\n",
       "       3, 4, 0, 0, 3, 1, 3, 3, 0, 0, 3, 3, 2, 2, 4, 0, 3, 5, 3, 0, 0, 3,\n",
       "       5, 0, 0, 3, 0, 3, 4, 3, 0, 2, 3, 3, 3, 0, 0, 0, 0, 0, 3, 3, 3, 1,\n",
       "       3, 3, 1, 4, 3, 1, 3, 3, 3, 3, 0, 0, 3, 3, 3, 0, 1, 1, 0, 3, 2, 0,\n",
       "       5, 0, 0, 3, 2, 1, 1, 4, 3, 3, 0, 3, 3, 2, 0, 1, 1, 2, 0, 0, 3, 1,\n",
       "       3, 2, 5, 0, 0, 3, 1, 4, 2])"
      ]
     },
     "execution_count": 34,
     "metadata": {},
     "output_type": "execute_result"
    }
   ],
   "source": [
    "y_kmeans"
   ]
  },
  {
   "cell_type": "markdown",
   "metadata": {},
   "source": [
    "#  print cluster centers "
   ]
  },
  {
   "cell_type": "code",
   "execution_count": 35,
   "metadata": {},
   "outputs": [
    {
     "data": {
      "text/plain": [
       "array([[ 2.00000000e+00,  3.04347826e-02,  9.30434783e-01,\n",
       "         4.78260870e-02,  1.00000000e+00,  3.04347826e-02,\n",
       "        -3.46944695e-17,  4.34782609e-03,  9.60869565e-01,\n",
       "         3.46944695e-18,  4.34782609e-03,  3.47826087e-02],\n",
       "       [ 1.01010101e+00,  2.92929293e-01, -2.22044605e-16,\n",
       "         1.71717172e-01,  1.00000000e+00,  2.02020202e-02,\n",
       "         1.01010101e-02, -1.38777878e-17,  8.48484848e-01,\n",
       "        -1.04083409e-17,  5.05050505e-02,  3.03030303e-02],\n",
       "       [ 1.02985075e+00,  1.00000000e+00,  1.00000000e+00,\n",
       "         1.49253731e-01,  1.00000000e+00,  4.47761194e-02,\n",
       "        -2.08166817e-17,  0.00000000e+00,  1.00000000e+00,\n",
       "         5.97014925e-02,  7.46268657e-02,  1.49253731e-02],\n",
       "       [ 9.58549223e-01,  1.94289029e-16,  1.00000000e+00,\n",
       "         9.71445147e-17,  1.00000000e+00,  8.29015544e-02,\n",
       "        -4.85722573e-17, -1.11022302e-16,  9.79274611e-01,\n",
       "         2.84974093e-02,  1.81347150e-02,  3.36787565e-02],\n",
       "       [ 1.19444444e+00,  5.55555556e-02,  5.97222222e-01,\n",
       "         5.55555556e-02, -2.22044605e-16,  5.55555556e-02,\n",
       "         5.13888889e-01,  1.00000000e+00,  5.27777778e-01,\n",
       "        -6.93889390e-18,  1.38888889e-02,  2.77777778e-02],\n",
       "       [ 9.71428571e-01,  1.38777878e-17,  1.00000000e+00,\n",
       "         1.00000000e+00,  1.00000000e+00,  2.85714286e-02,\n",
       "         0.00000000e+00,  0.00000000e+00,  1.00000000e+00,\n",
       "         2.85714286e-02,  0.00000000e+00,  5.71428571e-02]])"
      ]
     },
     "execution_count": 35,
     "metadata": {},
     "output_type": "execute_result"
    }
   ],
   "source": [
    "kmeans.cluster_centers_"
   ]
  },
  {
   "cell_type": "markdown",
   "metadata": {},
   "source": [
    "#  create column cluster for predicted labels value"
   ]
  },
  {
   "cell_type": "code",
   "execution_count": 36,
   "metadata": {},
   "outputs": [
    {
     "data": {
      "text/html": [
       "<div>\n",
       "<style scoped>\n",
       "    .dataframe tbody tr th:only-of-type {\n",
       "        vertical-align: middle;\n",
       "    }\n",
       "\n",
       "    .dataframe tbody tr th {\n",
       "        vertical-align: top;\n",
       "    }\n",
       "\n",
       "    .dataframe thead th {\n",
       "        text-align: right;\n",
       "    }\n",
       "</style>\n",
       "<table border=\"1\" class=\"dataframe\">\n",
       "  <thead>\n",
       "    <tr style=\"text-align: right;\">\n",
       "      <th></th>\n",
       "      <th>Gender</th>\n",
       "      <th>Chain_smoker</th>\n",
       "      <th>Consumes_other_tobacco_products</th>\n",
       "      <th>HighBP</th>\n",
       "      <th>Obese</th>\n",
       "      <th>Diabetes</th>\n",
       "      <th>Metabolic_syndrome</th>\n",
       "      <th>Use_of_stimulant_drugs</th>\n",
       "      <th>Family_history</th>\n",
       "      <th>History_of_preeclampsia</th>\n",
       "      <th>CABG_history</th>\n",
       "      <th>Respiratory_illness</th>\n",
       "      <th>cluster</th>\n",
       "    </tr>\n",
       "  </thead>\n",
       "  <tbody>\n",
       "    <tr>\n",
       "      <th>0</th>\n",
       "      <td>1</td>\n",
       "      <td>1</td>\n",
       "      <td>1</td>\n",
       "      <td>0</td>\n",
       "      <td>1</td>\n",
       "      <td>0</td>\n",
       "      <td>0</td>\n",
       "      <td>0</td>\n",
       "      <td>1</td>\n",
       "      <td>0</td>\n",
       "      <td>0</td>\n",
       "      <td>0</td>\n",
       "      <td>2</td>\n",
       "    </tr>\n",
       "    <tr>\n",
       "      <th>1</th>\n",
       "      <td>1</td>\n",
       "      <td>0</td>\n",
       "      <td>1</td>\n",
       "      <td>0</td>\n",
       "      <td>1</td>\n",
       "      <td>0</td>\n",
       "      <td>0</td>\n",
       "      <td>0</td>\n",
       "      <td>1</td>\n",
       "      <td>0</td>\n",
       "      <td>0</td>\n",
       "      <td>0</td>\n",
       "      <td>3</td>\n",
       "    </tr>\n",
       "    <tr>\n",
       "      <th>2</th>\n",
       "      <td>1</td>\n",
       "      <td>0</td>\n",
       "      <td>1</td>\n",
       "      <td>0</td>\n",
       "      <td>1</td>\n",
       "      <td>0</td>\n",
       "      <td>0</td>\n",
       "      <td>0</td>\n",
       "      <td>1</td>\n",
       "      <td>0</td>\n",
       "      <td>0</td>\n",
       "      <td>0</td>\n",
       "      <td>3</td>\n",
       "    </tr>\n",
       "    <tr>\n",
       "      <th>3</th>\n",
       "      <td>1</td>\n",
       "      <td>0</td>\n",
       "      <td>1</td>\n",
       "      <td>0</td>\n",
       "      <td>1</td>\n",
       "      <td>0</td>\n",
       "      <td>0</td>\n",
       "      <td>0</td>\n",
       "      <td>1</td>\n",
       "      <td>0</td>\n",
       "      <td>0</td>\n",
       "      <td>0</td>\n",
       "      <td>3</td>\n",
       "    </tr>\n",
       "    <tr>\n",
       "      <th>4</th>\n",
       "      <td>1</td>\n",
       "      <td>0</td>\n",
       "      <td>0</td>\n",
       "      <td>0</td>\n",
       "      <td>0</td>\n",
       "      <td>0</td>\n",
       "      <td>1</td>\n",
       "      <td>1</td>\n",
       "      <td>0</td>\n",
       "      <td>0</td>\n",
       "      <td>0</td>\n",
       "      <td>0</td>\n",
       "      <td>4</td>\n",
       "    </tr>\n",
       "  </tbody>\n",
       "</table>\n",
       "</div>"
      ],
      "text/plain": [
       "   Gender  Chain_smoker  Consumes_other_tobacco_products  HighBP  Obese  \\\n",
       "0       1             1                                1       0      1   \n",
       "1       1             0                                1       0      1   \n",
       "2       1             0                                1       0      1   \n",
       "3       1             0                                1       0      1   \n",
       "4       1             0                                0       0      0   \n",
       "\n",
       "   Diabetes  Metabolic_syndrome  Use_of_stimulant_drugs  Family_history  \\\n",
       "0         0                   0                       0               1   \n",
       "1         0                   0                       0               1   \n",
       "2         0                   0                       0               1   \n",
       "3         0                   0                       0               1   \n",
       "4         0                   1                       1               0   \n",
       "\n",
       "   History_of_preeclampsia  CABG_history  Respiratory_illness  cluster  \n",
       "0                        0             0                    0        2  \n",
       "1                        0             0                    0        3  \n",
       "2                        0             0                    0        3  \n",
       "3                        0             0                    0        3  \n",
       "4                        0             0                    0        4  "
      ]
     },
     "execution_count": 36,
     "metadata": {},
     "output_type": "execute_result"
    }
   ],
   "source": [
    "df_1['cluster']=  y_kmeans\n",
    "df_1.head()"
   ]
  },
  {
   "cell_type": "markdown",
   "metadata": {},
   "source": [
    "#  Plot the hierarchical clustering using scipy "
   ]
  },
  {
   "cell_type": "code",
   "execution_count": 37,
   "metadata": {},
   "outputs": [],
   "source": [
    "df_h = df.drop('UnderRisk',axis=1)"
   ]
  },
  {
   "cell_type": "code",
   "execution_count": 38,
   "metadata": {},
   "outputs": [
    {
     "data": {
      "image/png": "[encoded data removed]",
      "text/plain": [
       "<Figure size 432x288 with 1 Axes>"
      ]
     },
     "metadata": {
      "needs_background": "light"
     },
     "output_type": "display_data"
    }
   ],
   "source": [
    "#The following linkage methods are used to compute the distance between two clusters \n",
    "# method='ward' uses the Ward variance minimization algorithm\n",
    "from scipy.cluster.hierarchy import linkage,dendrogram\n",
    "merg = linkage(df_1, method = \"ward\")\n",
    "#Plot the hierarchical clustering as a dendrogram.\n",
    "#leaf_rotation : double, optional Specifies the angle (in degrees) to rotate the leaf labels.\n",
    "\n",
    "dendrogram(merg, leaf_rotation = 90)\n",
    "plt.xlabel(\"data points\")\n",
    "plt.ylabel(\"euclidean distance\")\n",
    "plt.show()"
   ]
  },
  {
   "cell_type": "markdown",
   "metadata": {},
   "source": [
    "#  Apply AgglomerativeClustering using number of cluster"
   ]
  },
  {
   "cell_type": "code",
   "execution_count": 39,
   "metadata": {},
   "outputs": [],
   "source": [
    "from sklearn.cluster import AgglomerativeClustering"
   ]
  },
  {
   "cell_type": "code",
   "execution_count": 40,
   "metadata": {},
   "outputs": [],
   "source": [
    "hc = AgglomerativeClustering(n_clusters = 6, affinity = \"euclidean\", linkage = \"ward\")\n",
    "cluster = hc.fit_predict(df_h)"
   ]
  },
  {
   "cell_type": "markdown",
   "metadata": {},
   "source": [
    "#  create label column for predicted cluster label"
   ]
  },
  {
   "cell_type": "code",
   "execution_count": 41,
   "metadata": {},
   "outputs": [],
   "source": [
    "df_h[\"label\"] = cluster"
   ]
  },
  {
   "cell_type": "code",
   "execution_count": 42,
   "metadata": {},
   "outputs": [
    {
     "data": {
      "text/html": [
       "<div>\n",
       "<style scoped>\n",
       "    .dataframe tbody tr th:only-of-type {\n",
       "        vertical-align: middle;\n",
       "    }\n",
       "\n",
       "    .dataframe tbody tr th {\n",
       "        vertical-align: top;\n",
       "    }\n",
       "\n",
       "    .dataframe thead th {\n",
       "        text-align: right;\n",
       "    }\n",
       "</style>\n",
       "<table border=\"1\" class=\"dataframe\">\n",
       "  <thead>\n",
       "    <tr style=\"text-align: right;\">\n",
       "      <th></th>\n",
       "      <th>Gender</th>\n",
       "      <th>Chain_smoker</th>\n",
       "      <th>Consumes_other_tobacco_products</th>\n",
       "      <th>HighBP</th>\n",
       "      <th>Obese</th>\n",
       "      <th>Diabetes</th>\n",
       "      <th>Metabolic_syndrome</th>\n",
       "      <th>Use_of_stimulant_drugs</th>\n",
       "      <th>Family_history</th>\n",
       "      <th>History_of_preeclampsia</th>\n",
       "      <th>CABG_history</th>\n",
       "      <th>Respiratory_illness</th>\n",
       "      <th>label</th>\n",
       "    </tr>\n",
       "  </thead>\n",
       "  <tbody>\n",
       "    <tr>\n",
       "      <th>0</th>\n",
       "      <td>1</td>\n",
       "      <td>1</td>\n",
       "      <td>1</td>\n",
       "      <td>0</td>\n",
       "      <td>1</td>\n",
       "      <td>0</td>\n",
       "      <td>0</td>\n",
       "      <td>0</td>\n",
       "      <td>1</td>\n",
       "      <td>0</td>\n",
       "      <td>0</td>\n",
       "      <td>0</td>\n",
       "      <td>2</td>\n",
       "    </tr>\n",
       "    <tr>\n",
       "      <th>1</th>\n",
       "      <td>1</td>\n",
       "      <td>0</td>\n",
       "      <td>1</td>\n",
       "      <td>0</td>\n",
       "      <td>1</td>\n",
       "      <td>0</td>\n",
       "      <td>0</td>\n",
       "      <td>0</td>\n",
       "      <td>1</td>\n",
       "      <td>0</td>\n",
       "      <td>0</td>\n",
       "      <td>0</td>\n",
       "      <td>1</td>\n",
       "    </tr>\n",
       "    <tr>\n",
       "      <th>2</th>\n",
       "      <td>1</td>\n",
       "      <td>0</td>\n",
       "      <td>1</td>\n",
       "      <td>0</td>\n",
       "      <td>1</td>\n",
       "      <td>0</td>\n",
       "      <td>0</td>\n",
       "      <td>0</td>\n",
       "      <td>1</td>\n",
       "      <td>0</td>\n",
       "      <td>0</td>\n",
       "      <td>0</td>\n",
       "      <td>1</td>\n",
       "    </tr>\n",
       "    <tr>\n",
       "      <th>3</th>\n",
       "      <td>1</td>\n",
       "      <td>0</td>\n",
       "      <td>1</td>\n",
       "      <td>0</td>\n",
       "      <td>1</td>\n",
       "      <td>0</td>\n",
       "      <td>0</td>\n",
       "      <td>0</td>\n",
       "      <td>1</td>\n",
       "      <td>0</td>\n",
       "      <td>0</td>\n",
       "      <td>0</td>\n",
       "      <td>1</td>\n",
       "    </tr>\n",
       "    <tr>\n",
       "      <th>4</th>\n",
       "      <td>1</td>\n",
       "      <td>0</td>\n",
       "      <td>0</td>\n",
       "      <td>0</td>\n",
       "      <td>0</td>\n",
       "      <td>0</td>\n",
       "      <td>1</td>\n",
       "      <td>1</td>\n",
       "      <td>0</td>\n",
       "      <td>0</td>\n",
       "      <td>0</td>\n",
       "      <td>0</td>\n",
       "      <td>0</td>\n",
       "    </tr>\n",
       "  </tbody>\n",
       "</table>\n",
       "</div>"
      ],
      "text/plain": [
       "   Gender  Chain_smoker  Consumes_other_tobacco_products  HighBP  Obese  \\\n",
       "0       1             1                                1       0      1   \n",
       "1       1             0                                1       0      1   \n",
       "2       1             0                                1       0      1   \n",
       "3       1             0                                1       0      1   \n",
       "4       1             0                                0       0      0   \n",
       "\n",
       "   Diabetes  Metabolic_syndrome  Use_of_stimulant_drugs  Family_history  \\\n",
       "0         0                   0                       0               1   \n",
       "1         0                   0                       0               1   \n",
       "2         0                   0                       0               1   \n",
       "3         0                   0                       0               1   \n",
       "4         0                   1                       1               0   \n",
       "\n",
       "   History_of_preeclampsia  CABG_history  Respiratory_illness  label  \n",
       "0                        0             0                    0      2  \n",
       "1                        0             0                    0      1  \n",
       "2                        0             0                    0      1  \n",
       "3                        0             0                    0      1  \n",
       "4                        0             0                    0      0  "
      ]
     },
     "execution_count": 42,
     "metadata": {},
     "output_type": "execute_result"
    }
   ],
   "source": [
    "df_h.head()"
   ]
  },
  {
   "cell_type": "markdown",
   "metadata": {},
   "source": [
    "# show label counts "
   ]
  },
  {
   "cell_type": "code",
   "execution_count": 43,
   "metadata": {},
   "outputs": [
    {
     "data": {
      "text/plain": [
       "1    412\n",
       "5    191\n",
       "4     91\n",
       "0     72\n",
       "3     63\n",
       "2     60\n",
       "Name: label, dtype: int64"
      ]
     },
     "execution_count": 43,
     "metadata": {},
     "output_type": "execute_result"
    }
   ],
   "source": [
    "df_h.label.value_counts()\n"
   ]
  },
  {
   "cell_type": "markdown",
   "metadata": {},
   "source": [
    "#  show a silhouette score"
   ]
  },
  {
   "cell_type": "code",
   "execution_count": 44,
   "metadata": {},
   "outputs": [],
   "source": [
    "from sklearn.metrics import silhouette_score"
   ]
  },
  {
   "cell_type": "code",
   "execution_count": 45,
   "metadata": {},
   "outputs": [
    {
     "data": {
      "text/plain": [
       "0.6832654795236572"
      ]
     },
     "execution_count": 45,
     "metadata": {},
     "output_type": "execute_result"
    }
   ],
   "source": [
    "score_agg = silhouette_score(df_h, cluster)\n",
    "score_agg"
   ]
  },
  {
   "cell_type": "code",
   "execution_count": null,
   "metadata": {},
   "outputs": [],
   "source": []
  }
 ],
 "metadata": {
  "kernelspec": {
   "display_name": "Python 3",
   "language": "python",
   "name": "python3"
  },
  "language_info": {
   "codemirror_mode": {
    "name": "ipython",
    "version": 3
   },
   "file_extension": ".py",
   "mimetype": "text/x-python",
   "name": "python",
   "nbconvert_exporter": "python",
   "pygments_lexer": "ipython3",
   "version": "3.10.2"
  }
 },
 "nbformat": 4,
 "nbformat_minor": 4
}
